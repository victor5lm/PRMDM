{
 "cells": [
  {
   "cell_type": "code",
   "execution_count": 38,
   "metadata": {},
   "outputs": [],
   "source": [
    "import numpy as np\n",
    "import matplotlib.pyplot as plt\n",
    "\n",
    "# The next line indicates to matplotlib to show the plots inline in the notebook\n",
    "%matplotlib inline"
   ]
  },
  {
   "cell_type": "markdown",
   "metadata": {},
   "source": [
    "# Programming assignment \n",
    "\n",
    "You have to program a series of functions in order to generate a protein translation table. A protein is created from a sequence of nucleic acids codified in the messenger RNA (mRNA). This mRNA is read by the ribosome three bases at a time (called codons) to add one amino acid to the protein. In total there are $4^3=64$ different codons that correspond to the possible combinations of three bases.  Each codon codifies a single amino acid. The mRNA has one start codon that always codifies M and an end codon that signals the end of the protein.\n",
    "\n",
    "The objective of this assignment is to generate this translation table. To do so you will have to:\n",
    "\n",
    "+ Read the genome of a species from a FASTA file\n",
    "+ Read the annotation file for that genome to extract the location in the genome of the Coding Sequences (CDS) for each protein\n",
    "+ Extract the mRNAs from the genome that codifies each protein using its location \n",
    "+ Read the proteins from a FASTA file\n",
    "+ Generate the translation table using pairs of mRNA and protein\n",
    "\n",
    "\n",
    "In the following you will find the template of the functions to use and some other interesting execises "
   ]
  },
  {
   "cell_type": "markdown",
   "metadata": {},
   "source": [
    "# File parsing \n",
    "\n",
    "Implement the function below to parse a fasta file. Find an example of a fasta format file here:\n",
    "***\n",
    "<pre>>NC_000907.1:1073118-1073456 Haemophilus influenzae Rd KW20 chromoso\n",
    "ATGAAAACATTATTCACTTCGGTTGTATTGTGTGGTGCGCTGGTTGTTTCTTCGTCTTTTGCTGAGGAAA\n",
    "AAGCGACAGANCAAACCGCTCAATCTGTTGTGACAACTCAAGCTGAAGCTCAAGTAGCACCAGCCGTAGT\n",
    "GAGCGATAAATTGAATATCAACACAGCAACTGCCAGTGAAATTCAAAAATCCTTAACTGGCATTGGTGCG\n",
    "AAAAAAGCGGAAGCTATTGTGCAATATCGTGAAAAACACGGTAATTTTKCTAATGCAGAACAGCTTTTAG\n",
    "AAGTACAAGGAATTGGCAAAGCAACACTAGAGAAAAATCGTGATCGTATAATCTTTTAA\n",
    "</pre>\n",
    "***\n"
   ]
  },
  {
   "cell_type": "markdown",
   "metadata": {},
   "source": [
    "#### Read FASTA"
   ]
  },
  {
   "cell_type": "code",
   "execution_count": 39,
   "metadata": {},
   "outputs": [],
   "source": [
    "#Función que lee un archivo fasta. Se abre el archivo y se genera un diccionario en donde la\n",
    "# clave es el identificador de la secuencia y el valor es la secuencia en sí.\n",
    "def readFasta(file):\n",
    "    d={}\n",
    "    with open(file,'r') as f:\n",
    "        for line in f:\n",
    "            line=line.strip()\n",
    "            if \">\"==line[0]: #si la línea empieza por \">\", se toma el identificador.\n",
    "                ident=line.split()[0][1:]\n",
    "                d[ident]=''\n",
    "            else: #si la línea es parte de la secuencia, forma parte del valor de dicho identificador en el diccionario, adicionándose a líneas anteriores de la secuencia si es el caso.\n",
    "                d[ident]=d[ident]+line\n",
    "    return d"
   ]
  },
  {
   "cell_type": "code",
   "execution_count": 40,
   "metadata": {
    "scrolled": true
   },
   "outputs": [
    {
     "name": "stdout",
     "output_type": "stream",
     "text": [
      "All tests Ok\n"
     ]
    }
   ],
   "source": [
    "# Cell for checking if readFasta is working\n",
    "seqs = readFasta(\"phix174/phix.fa\")\n",
    "#print(seqs['gi|216019|gb|J02482.1|PX1CG'])\n",
    "# Check that the number of sequences is one\n",
    "assert(len(seqs)==1)\n",
    "# Check that the length of the sequences is correct\n",
    "assert(len(seqs['gi|216019|gb|J02482.1|PX1CG'])==5386)\n",
    "\n",
    "print(\"All tests Ok\")"
   ]
  },
  {
   "cell_type": "markdown",
   "metadata": {},
   "source": [
    "#### Some statistics"
   ]
  },
  {
   "cell_type": "code",
   "execution_count": 41,
   "metadata": {},
   "outputs": [],
   "source": [
    "#Función que cuenta el número de veces que aparece cada base en una secuencia, \n",
    "# devolviendo una lista de bases (bases) y otra con el número de veces que aparece cada base (counts).\n",
    "def countBases(sequence,bases=[]):\n",
    "    counts=[] #lista con el número de ocurrencias de cada base\n",
    "    if bases==[]: #si el usuario no indica las bases al llamar a la función, se cuentan las ocurrencias de todas las letras.\n",
    "        bases.append('A')\n",
    "        bases.append('C')\n",
    "        bases.append('G')\n",
    "        bases.append('T')\n",
    "        for b in bases:\n",
    "            counts.append(sequence.count(b))\n",
    "    else: #si el usuario indica las letras que desea contar, se cuentan solamente éstas en la secuencia.\n",
    "        if len(bases)==1:\n",
    "            occurrences_0=sequence.count(bases[0])\n",
    "            counts.append(occurrences_0)\n",
    "        elif len(bases)==2:\n",
    "            occurrences_0=sequence.count(bases[0])\n",
    "            occurrences_1=sequence.count(bases[1])\n",
    "            counts.append(occurrences_0)\n",
    "            counts.append(occurrences_1)\n",
    "        elif len(bases)==3:\n",
    "            occurrences_0=sequence.count(bases[0])\n",
    "            occurrences_1=sequence.count(bases[1])\n",
    "            occurrences_2=sequence.count(bases[2])\n",
    "            counts.append(occurrences_0)\n",
    "            counts.append(occurrences_1)\n",
    "            counts.append(occurrences_2)\n",
    "        elif len(bases)==4:\n",
    "            occurrences_0=sequence.count(bases[0])\n",
    "            occurrences_1=sequence.count(bases[1])\n",
    "            occurrences_2=sequence.count(bases[2])\n",
    "            occurrences_3=sequence.count(bases[3])\n",
    "            counts.append(occurrences_0)\n",
    "            counts.append(occurrences_1)\n",
    "            counts.append(occurrences_2)\n",
    "            counts.append(occurrences_3)\n",
    "    return bases,counts"
   ]
  },
  {
   "cell_type": "code",
   "execution_count": 42,
   "metadata": {},
   "outputs": [
    {
     "data": {
      "text/plain": [
       "Text(0, 0.5, 'Number')"
      ]
     },
     "execution_count": 42,
     "metadata": {},
     "output_type": "execute_result"
    },
    {
     "data": {
      "image/png": "[encoded data removed]",
      "text/plain": [
       "<Figure size 432x288 with 1 Axes>"
      ]
     },
     "metadata": {
      "needs_background": "light"
     },
     "output_type": "display_data"
    }
   ],
   "source": [
    "# Use matplotlib to show the histogram of bases for phiX174\n",
    "plt.bar((countBases(seqs['gi|216019|gb|J02482.1|PX1CG'])[0]),(countBases(seqs['gi|216019|gb|J02482.1|PX1CG'])[1]),color='green',width=0.5)\n",
    "plt.xlabel('Bases')\n",
    "plt.ylabel('Number')"
   ]
  },
  {
   "cell_type": "code",
   "execution_count": 43,
   "metadata": {},
   "outputs": [],
   "source": [
    "#Función que calcula, sobre 1, el contenido en G+C de una secuencia.\n",
    "def GCContent(sequence):\n",
    "    content=countBases(sequence) #conjunto de bases de la secuencia y el número de ocurrencias de cada base.\n",
    "    for i in content[0]: #para cada letra de \"bases\"\n",
    "        if i not in ['A','T','G','C']:\n",
    "            print('This chain has non valid characters') #Mensaje obtenido al haber letras no válidas.\n",
    "            break\n",
    "        else: #si todas las letras son válidas, se calcula el GC sobre 1.\n",
    "            for x in content[0]:\n",
    "                if x=='G':\n",
    "                    indice_G=(content[0]).index(x)\n",
    "                    G_occurrences=(content[1])[indice_G] #Se determina el número de veces que aparece \"G\" en la secuencia \n",
    "                elif x=='C':\n",
    "                    indice_C=(content[0]).index(x)\n",
    "                    C_occurrences=(content[1])[indice_C] #Se determina el número de veces que aparece \"C\" en la secuencia\n",
    "            gc=((G_occurrences+C_occurrences)/(sum(content[1]))) #Cálculo del GC sobre 1\n",
    "        return gc"
   ]
  },
  {
   "cell_type": "code",
   "execution_count": 44,
   "metadata": {},
   "outputs": [
    {
     "name": "stdout",
     "output_type": "stream",
     "text": [
      "All tests Ok\n"
     ]
    }
   ],
   "source": [
    "# Check that the GC content is correct\n",
    "seqs = readFasta(\"phix174/phix.fa\")\n",
    "assert(GCContent(seqs['gi|216019|gb|J02482.1|PX1CG'])==0.44764203490531007)\n",
    "# Check that the GC content is correct\n",
    "seqs = readFasta(\"plamodium_falciparum/Plasmodium_falciparumchromosome_1.fa\")\n",
    "assert(GCContent(seqs['NC_004325.1'])==0.20545724181242733)\n",
    "\n",
    "print(\"All tests Ok\")"
   ]
  },
  {
   "cell_type": "code",
   "execution_count": 45,
   "metadata": {},
   "outputs": [
    {
     "name": "stdout",
     "output_type": "stream",
     "text": [
      "[0.38150285542859297, 0.44764203490531007, 0.20545724181242733]\n"
     ]
    }
   ],
   "source": [
    "files = [\"haemophilus_influenzae/GCF_000027305.1_ASM2730v1_genomic.fna\",\n",
    "         \"phix174/phix.fa\",\n",
    "         \"plamodium_falciparum/Plasmodium_falciparumchromosome_1.fa\"]\n",
    "#Se han eliminado 2 de las 5 especies que el profesor indicó en el notebook ya que tardaba demasiado tiempo\n",
    "# en obtenerse el resultado.\n",
    "\n",
    "gcs = [] #lista de GC para cada especie\n",
    "for file in files: #Para cada archivo de files, éste se lee y se obtiene su contenido en GC, el cual se guarda en gcs.\n",
    "    seqs = readFasta(file)\n",
    "    # Count only the first sequence\n",
    "    keys = list(seqs.keys())\n",
    "    gcs.append(GCContent(seqs[keys[0]])) \n",
    "    \n",
    "print(gcs)"
   ]
  },
  {
   "cell_type": "code",
   "execution_count": 46,
   "metadata": {},
   "outputs": [
    {
     "data": {
      "text/plain": [
       "Text(0, 0.5, 'GC content')"
      ]
     },
     "execution_count": 46,
     "metadata": {},
     "output_type": "execute_result"
    },
    {
     "data": {
      "image/png": "[encoded data removed]",
      "text/plain": [
       "<Figure size 432x288 with 1 Axes>"
      ]
     },
     "metadata": {
      "needs_background": "light"
     },
     "output_type": "display_data"
    }
   ],
   "source": [
    "# Use matplotlib to show the GC content of the different species with a bar plot\n",
    "plt.bar(files,gcs,color='green',width=0.5)\n",
    "plt.xlabel('Species')\n",
    "plt.xticks(rotation=90)\n",
    "plt.ylabel('GC content')"
   ]
  },
  {
   "cell_type": "markdown",
   "metadata": {},
   "source": [
    "#### Read FASTQ"
   ]
  },
  {
   "cell_type": "code",
   "execution_count": 47,
   "metadata": {},
   "outputs": [],
   "source": [
    "#Función que lee un archivo fastq. Se obtienen dos listas: una relativa a las secuencias presentes en dicho archivo \n",
    "# y otra relativa a las calidades para cada una de dichas secuencias (media de calidades para todas las letras de cada secuencia)\n",
    "def readFastq(file):\n",
    "    sequences=[] #listas de secuencias\n",
    "    qualities=[] #y calidades\n",
    "    with open(file,'r') as f: #se abre el archivo fastq y se lee\n",
    "        lines=f.readlines()\n",
    "    for i in range(1,len(lines),4): #considerando que las secuencias aparecen cada 4 líneas, se guardan las secuencias en la lista \"sequences\".\n",
    "        s=lines[i]\n",
    "        sequences.append(s.replace(\"\\n\",\"\"))\n",
    "    for j in range(3,len(lines),4): #considerando que las calidades aparecen cada 4 líneas, se guardan las calidades en la lista \"qualities\"\n",
    "        quality=lines[j]\n",
    "        l=len(quality)\n",
    "        q=0 #variable donde se irán sumando las calidades para cada posición de una determinada secuencia.\n",
    "        for k in quality:\n",
    "            q+=ord(k)-33 #cálculo de la calidad para cada posición de la secuencia, y esta calidad se añade a la variable q, de forma que para una secuencia habrá al final una calidad igual a la suma de calidades para cada posición.\n",
    "        qualities.append(q/l) #a la lista \"qualities\" se añaden las medias de las calidades de cada posición de una misma secuencia.\n",
    "    return sequences,qualities"
   ]
  },
  {
   "cell_type": "code",
   "execution_count": 48,
   "metadata": {},
   "outputs": [
    {
     "name": "stdout",
     "output_type": "stream",
     "text": [
      "CPU times: user 12.3 ms, sys: 12.3 ms, total: 24.6 ms\n",
      "Wall time: 29.5 ms\n"
     ]
    },
    {
     "data": {
      "text/plain": [
       "5.011872336272714e-10"
      ]
     },
     "execution_count": 48,
     "metadata": {},
     "output_type": "execute_result"
    },
    {
     "data": {
      "image/png": "[encoded data removed]",
      "text/plain": [
       "<Figure size 432x288 with 1 Axes>"
      ]
     },
     "metadata": {
      "needs_background": "light"
     },
     "output_type": "display_data"
    }
   ],
   "source": [
    "import math\n",
    "\n",
    "# Use matplotlib to show the a histogram of Qs\n",
    "%time rr, qq = readFastq('phix174/SRR835775_1.first1000.fastq')\n",
    "#%time rr, qq = readFastq('sintetico/sample_01.fasta.fastq')\n",
    "\n",
    "#q =np.concatenate(qq,axis=0)\n",
    "plt.xlabel('Q')\n",
    "plt.xlim((0,43))\n",
    "hh, bb = np.histogram(qq,range(1,50))\n",
    "plt.bar(np.arange(1,49),hh)\n",
    "h = plt.hist(qq,range(50))\n",
    "\n",
    "math.pow(10,-(ord('~')-33)/10)"
   ]
  },
  {
   "cell_type": "markdown",
   "metadata": {},
   "source": [
    "### Spark exercise (only this cell)"
   ]
  },
  {
   "cell_type": "code",
   "execution_count": 49,
   "metadata": {
    "scrolled": true
   },
   "outputs": [
    {
     "data": {
      "text/html": [
       "\n",
       "        <div>\n",
       "            <p><b>SparkContext</b></p>\n",
       "\n",
       "            <p><a href=\"http://192.168.40.129:4040\">Spark UI</a></p>\n",
       "\n",
       "            <dl>\n",
       "              <dt>Version</dt>\n",
       "                <dd><code>v3.2.0</code></dd>\n",
       "              <dt>Master</dt>\n",
       "                <dd><code>local[*]</code></dd>\n",
       "              <dt>AppName</dt>\n",
       "                <dd><code>PySparkShell</code></dd>\n",
       "            </dl>\n",
       "        </div>\n",
       "        "
      ],
      "text/plain": [
       "<SparkContext master=local[*] appName=PySparkShell>"
      ]
     },
     "execution_count": 49,
     "metadata": {},
     "output_type": "execute_result"
    }
   ],
   "source": [
    "sc"
   ]
  },
  {
   "cell_type": "code",
   "execution_count": 50,
   "metadata": {},
   "outputs": [
    {
     "name": "stdout",
     "output_type": "stream",
     "text": [
      "[('C', 1157), ('G', 1254), ('A', 1291), ('T', 1684)]\n"
     ]
    }
   ],
   "source": [
    "# Implement a sequence of spark transformations to read a fasta file\n",
    "# and to compute the number of occurrences of each base.\n",
    "\n",
    "#Abrimos el documento con textFile. La secuencia está separada por saltos de línea, por lo que tenemos una lista con\n",
    "#cada una de las líneas. Lo primero sería eliminar la primera línea (\">\") usando filter, y eso se quita con lambda distinto de >.\n",
    "#Lo siguiente sería juntar las líneas usando list(x) con map. De esta forma, cada secuencia se ha transformado en una lista cuyos\n",
    "#elementos son las letras de cada secuencia. Con reduce lo que hacemos es que las tuplas se fusionen,\n",
    "#de manera que tenemos una lista con todas las letras de todas las secuencias, donde cada letra es un elemento de esta única lista.\n",
    "\n",
    "fastaData=sc.textFile('phix174/phix.fa').filter(lambda x: x[0]!='>').map(lambda x: list(x)).reduce(lambda e1,e2:e1+e2)\n",
    "\n",
    "#Al haber aplicado reduce, fastaData ya no es un RDD, por lo que se aplica parallelize para que vuelva a serlo.\n",
    "#Una vez transformado, la función map asigna el valor 1 a cada letra.\n",
    "#Con ReduceByKey hacemos que para cada clave igual se sumen sus valores correspondientes.\n",
    "\n",
    "letters=sc.parallelize(fastaData).map(lambda x: (x,1)).reduceByKey(lambda e1,e2:e1+e2)\n",
    "print(letters.collect())"
   ]
  },
  {
   "cell_type": "markdown",
   "metadata": {},
   "source": [
    "# Obtaining traslation tables"
   ]
  },
  {
   "cell_type": "code",
   "execution_count": 51,
   "metadata": {},
   "outputs": [],
   "source": [
    "#Función que determina la secuencia complementaria a una secuencia dada (\"gen\")\n",
    "def complementary(gen):\n",
    "    chain=''\n",
    "    for b in gen:\n",
    "        if b=='A':\n",
    "            chain+='T'\n",
    "        if b=='G':\n",
    "            chain+='C'\n",
    "        if b=='C':\n",
    "            chain+='G'\n",
    "        if b=='T' or b=='U':\n",
    "            chain+='A'\n",
    "    comp=chain[::-1]\n",
    "    return comp"
   ]
  },
  {
   "cell_type": "code",
   "execution_count": 52,
   "metadata": {},
   "outputs": [
    {
     "name": "stdout",
     "output_type": "stream",
     "text": [
      "All tests OK!\n"
     ]
    }
   ],
   "source": [
    "# Tests\n",
    "assert(complementary('G')=='C')\n",
    "assert(complementary('AT')=='AT')\n",
    "assert(complementary('GC')=='GC')\n",
    "assert(complementary('GATACA')=='TGTATC')\n",
    "# If you added all possible combination of bases uncomment the \n",
    "# following line to check\n",
    "# assert(complementary('GATACASWKMYRHDVBN')=='NVBHDYRKMWSTGTATC')\n",
    "\n",
    "print('All tests OK!')"
   ]
  },
  {
   "cell_type": "code",
   "execution_count": 53,
   "metadata": {},
   "outputs": [],
   "source": [
    "#Función que, dados los atributos de un archivo gff, nos da el protein_id. \n",
    "def extractProteinId(attribs):\n",
    "    if \"protein_id=\" in attribs: #Solo se devuelve el protein_id si éste está presente para cada \"feature\" del archivo gff.\n",
    "        protein_id = attribs[attribs.find(\"protein_id=\")+len(\"protein_id=\"):]\n",
    "        i = protein_id.find(\";\")\n",
    "        if i>=0:\n",
    "            protein_id = protein_id[:i]\n",
    "        return protein_id\n",
    "\n",
    "#Función que devuelve un diccionario, en donde la clave es el protein_id y el valor es una lista consistente en\n",
    "# el seqid y la información relativa a la cds (posición inicial, posición final, cadena y phase).\n",
    "def extractCDSFromGFF(gff_file):\n",
    "    with open(gff_file,'r') as f: #se abre el archivo indicado como \"gff_file\" y se lee\n",
    "        lines=f.readlines()\n",
    "    diccionario={} #diccionario que se mostrará al llamar a esta función.\n",
    "    for l in lines: #para cada línea (cada seqid)\n",
    "        if not l.startswith('#'): #si ésta no empieza por \"#\" (ya que algunas líneas empiezan por \"#\")\n",
    "                lineas=l.split('\\t')\n",
    "                gene=lineas[0] #se establece cuál es el seqid\n",
    "                atributos=lineas[8] #se establecen cuáles son los atributos\n",
    "                protein=extractProteinId(atributos) #se obtiene el protein_id a partir de la función anterior.\n",
    "                if protein!=None: #nos aseguramos así de que solo se tengan en cuenta aquellos seqid que tengan el campo protein_id, y por tanto que éste no sea None.\n",
    "                    info_CDS=(int(lineas[3]),int(lineas[4]),lineas[6],int(lineas[7])) #se organiza la información relativa a la cds en una tupla.\n",
    "                    if protein not in diccionario: #se tiene en cuenta si un protein_id aparece relacionado con uno o varios seqid.\n",
    "                        diccionario[protein]=[gene,info_CDS]\n",
    "                    else:\n",
    "                        diccionario[protein].append(info_CDS)\n",
    "    return diccionario"
   ]
  },
  {
   "cell_type": "code",
   "execution_count": 54,
   "metadata": {},
   "outputs": [
    {
     "name": "stdout",
     "output_type": "stream",
     "text": [
      "All test are OK!\n"
     ]
    }
   ],
   "source": [
    "# Tests\n",
    "assert(extractCDSFromGFF('haemophilus_influenzae/test1.gff')=={'NP_438174.1': ['NC_000907.1', (2, 1021, '+', 0)]})\n",
    "assert(extractCDSFromGFF('haemophilus_influenzae/test2.gff')== {'NP_438174.1': ['NC_000907.1',  (2, 1021, '+', 0)],'NP_438175.1': ['NC_000907.1',  (1190, 3013, '+', 0)],'NP_438176.1': ['NC_000907.1', (3050, 3838, '-', 0)]})\n",
    "assert(extractCDSFromGFF('haemophilus_influenzae/test3.gff')=={'NP_438174.1': ['NC_000907.1', (2, 1021, '+', 0)],'NP_438271.2': ['NC_000907.1', (104277, 104318, '+', 0), (104318, 105274, '+',  0)]})\n",
    "print('All test are OK!')"
   ]
  },
  {
   "cell_type": "code",
   "execution_count": 55,
   "metadata": {},
   "outputs": [],
   "source": [
    "#Función que devuelve un diccionario en donde las claves son los codones de una secuencia dada (\"cds\") y los valores\n",
    "# son sus aminoácidos correspondientes (obtenidos a partir de \"protein\"), así como el codón de inicio de la secuencia.\n",
    "def obtainTranslationTable(cds, protein):\n",
    "    codones=[]\n",
    "    aminoacidos=[]\n",
    "    trans_table={}\n",
    "    for x in range(3,len(cds),3): #se recorre la secuencia \"cds\" de 3 en 3, guardando cada codón en \"codones\".\n",
    "        codon=cds[x:x+3]\n",
    "        codones.append(codon)\n",
    "    for x in range(1,len(protein)): #se recorre la secuencia proteica \"protein\", guardando cada aminoácido en \"aminoacidos\"\n",
    "        aminoacidos.append(protein[x])\n",
    "    start_codon=cds[0:3] #el codón de inicio son las tres primeras bases de \"cds\".\n",
    "    for x in codones:\n",
    "        if x==codones[-1]: #el valor del último codón es \"*\" en el diccionario.\n",
    "            trans_table[x]='*'\n",
    "        else: #se asigna a cada codón el aminoácido correspondiente.\n",
    "            index=codones.index(x)\n",
    "            trans_table[x]=aminoacidos[index]\n",
    "    return trans_table, start_codon #se devuelven el diccionario y el codón de inicio."
   ]
  },
  {
   "cell_type": "code",
   "execution_count": 56,
   "metadata": {},
   "outputs": [
    {
     "name": "stdout",
     "output_type": "stream",
     "text": [
      "All test OK!\n"
     ]
    }
   ],
   "source": [
    "translation_dictionary, start_codon = obtainTranslationTable('GTGTTTTTGGTGTGGTGA','MFLVW')\n",
    "assert(translation_dictionary=={'TTT':'F', 'TTG':'L', 'GTG':'V', 'TGG':'W', 'TGA':'*'})\n",
    "assert(start_codon == 'GTG')\n",
    "\n",
    "print('All test OK!')"
   ]
  },
  {
   "cell_type": "code",
   "execution_count": 57,
   "metadata": {},
   "outputs": [],
   "source": [
    "#Función que devuelve el mRNA relativo a una secuencia, teniendo en cuenta la localización del cds en la misma.\n",
    "def compose_mRNA(cromosome, cds):\n",
    "    mrna = ''\n",
    "    if len(cds)==1: #si el cds es continuo a lo largo de la secuencia, \"cds\" solo tendrá una tupla.\n",
    "        if cds[0][2]=='+': #el mRNA será distinto en función de si la cadena es + o -\n",
    "            mrna+=cromosome[cds[0][0]-1:cds[0][1]]\n",
    "        else: #el mRNA será distinto en función de si la cadena es + o - (de ser -, se recurre a la función complementary)\n",
    "            mrna+=complementary(cromosome[cds[0][0]-1:cds[0][1]])\n",
    "    elif len(cds)==2: #si el cds no es continuo, \"cds\" tendrá dos tuplas (o más, si bien aquí solo se han considerado dos)\n",
    "        if cds[0][2]=='+' or cds[1][2]=='+': #el mRNA será distinto en función de si la cadena es + o -\n",
    "            mrna+=cromosome[cds[0][0]-1:cds[0][1]]+cromosome[cds[1][0]-1:cds[1][1]]\n",
    "        elif cds[0][2]=='-' or cds[1][2]=='-': #el mRNA será distinto en función de si la cadena es + o - (de ser -, se recurre a la función complementary)\n",
    "            mrna+=complementary(cromosome[cds[1][0]-1:cds[1][1]]+cromosome[cds[0][0]-1:cds[0][1]])\n",
    "    return mrna"
   ]
  },
  {
   "cell_type": "code",
   "execution_count": 58,
   "metadata": {},
   "outputs": [
    {
     "name": "stdout",
     "output_type": "stream",
     "text": [
      "All tests are OK!\n"
     ]
    }
   ],
   "source": [
    "cod = 'GTGTTTTTGGTGTGGTGA'\n",
    "\n",
    "assert(compose_mRNA(cod,[(1,len(cod),'+',0)])==cod)\n",
    "assert(compose_mRNA(cod,[(1,len(cod),'-',0)])==complementary(cod))\n",
    "assert(compose_mRNA(\"GGGGGGGGGG\"+cod+\"GGGGGG\",[(11,10+len(cod),'+',0)])==cod)\n",
    "assert(compose_mRNA(\"GGGGGGGGGG\"+cod+\"GGGGGG\",[(11,10+len(cod),'-',0)])==complementary(cod))\n",
    "assert(compose_mRNA(\"GGGGGGGGGG\"+cod[:9]+\"GGGGGG\"+cod[9:],[(11,19,'+',0),(26,34,'+',0)])==cod)\n",
    "assert(compose_mRNA(\"GGGGGGGGGG\"+cod[:9]+\"GGGGGG\"+cod[9:],[(26,34,'-',0),(11,19,'-',0)])==complementary(cod))\n",
    "\n",
    "print(\"All tests are OK!\")"
   ]
  },
  {
   "cell_type": "markdown",
   "metadata": {},
   "source": [
    "### Cell to compute the translation tables"
   ]
  },
  {
   "cell_type": "code",
   "execution_count": 59,
   "metadata": {},
   "outputs": [
    {
     "name": "stdout",
     "output_type": "stream",
     "text": [
      "List of start codons:  {'ATG', 'TTG'}\n",
      "There are 64 entries in the translation table.\n",
      "Entries:\n",
      "\n",
      "AAA->K    AAC->N    AAG->K    AAT->N    ACA->T    ACC->T    ACG->T    ACT->T    \n",
      "AGA->R    AGC->S    AGG->R    AGT->S    ATA->I    ATC->I    ATG->M    ATT->I    \n",
      "CAA->Q    CAC->H    CAG->Q    CAT->H    CCA->P    CCC->P    CCG->P    CCT->P    \n",
      "CGA->R    CGC->R    CGG->R    CGT->R    CTA->L    CTC->L    CTG->L    CTT->L    \n",
      "GAA->E    GAC->D    GAG->E    GAT->D    GCA->A    GCC->A    GCG->A    GCT->A    \n",
      "GGA->G    GGC->G    GGG->G    GGT->G    GTA->V    GTC->V    GTG->V    GTT->V    \n",
      "TAA->*    TAC->Y    TAG->*    TAT->Y    TCA->S    TCC->S    TCG->S    TCT->S    \n",
      "TGA->*    TGC->C    TGG->W    TGT->C    TTA->L    TTC->F    TTG->L    TTT->F    "
     ]
    }
   ],
   "source": [
    "def cleanTransTable(tt):\n",
    "    # Remove entries that codify 'X' (unknown)\n",
    "    tt = {k:tt[k] for k in tt if tt[k]!='X'}\n",
    "    # Remove entries that are not GCAT only\n",
    "    tt = {k:tt[k] for k in tt if k.count('G')+k.count('C')+k.count('A')+k.count('T') == 3}\n",
    "    \n",
    "    return tt\n",
    "\n",
    "# Read data\n",
    "genome   = readFasta('haemophilus_influenzae/GCF_000027305.1_ASM2730v1_genomic.fna')\n",
    "cdss     = extractCDSFromGFF('haemophilus_influenzae/test4.gff')\n",
    "proteins = readFasta('haemophilus_influenzae/GCF_000027305.1_ASM2730v1_protein.faa')\n",
    "\n",
    "# Init trans table and start codons\n",
    "translation_table = {}\n",
    "start_codons = set()\n",
    "\n",
    "# Loop over all mRNA found\n",
    "for protein_id in cdss:\n",
    "    cds    = cdss[protein_id]\n",
    "    seq_id = cds[0]\n",
    "    \n",
    "    mRNA   = compose_mRNA(genome[seq_id], cds[1:])\n",
    "    tt, sc = obtainTranslationTable(mRNA, proteins[protein_id])\n",
    "    \n",
    "    translation_table.update(tt)\n",
    "    start_codons.add(sc)\n",
    "\n",
    "# Remove spurious entries from the result\n",
    "translation_table = cleanTransTable(translation_table)\n",
    "\n",
    "#Print result\n",
    "print(\"List of start codons: \", start_codons)\n",
    "print(\"There are {0} entries in the translation table.\".format(len(translation_table)))\n",
    "print(\"Entries:\")\n",
    "\n",
    "for i,k in enumerate(sorted(translation_table.keys())):\n",
    "    if i%8==0:\n",
    "        print()\n",
    "    print(k + \"->\" + translation_table[k], end='    ')"
   ]
  },
  {
   "cell_type": "code",
   "execution_count": null,
   "metadata": {},
   "outputs": [],
   "source": []
  }
 ],
 "metadata": {
  "kernelspec": {
   "display_name": "Python 3",
   "language": "python",
   "name": "python3"
  },
  "language_info": {
   "codemirror_mode": {
    "name": "ipython",
    "version": 3
   },
   "file_extension": ".py",
   "mimetype": "text/x-python",
   "name": "python",
   "nbconvert_exporter": "python",
   "pygments_lexer": "ipython3",
   "version": "3.8.8"
  }
 },
 "nbformat": 4,
 "nbformat_minor": 2
}
